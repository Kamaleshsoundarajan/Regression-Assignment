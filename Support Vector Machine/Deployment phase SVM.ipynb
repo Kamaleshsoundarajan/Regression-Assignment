{
 "cells": [
  {
   "cell_type": "code",
   "execution_count": 1,
   "id": "f0a5bf19-a71a-4ef4-839d-0853d03ed679",
   "metadata": {},
   "outputs": [],
   "source": [
    "#Load the model and pass the inputs for prediction\n",
    "\n",
    "import pickle\n",
    "loaded_model=pickle.load(open(\"finalized_model_supportvector.sav\",'rb'))\n",
    "result=loaded_model.predict([[32,True,35.66,2,True]])\n",
    "\n"
   ]
  },
  {
   "cell_type": "code",
   "execution_count": 3,
   "id": "23a07f0e-098b-478a-aa71-d3ae6ad4ee4e",
   "metadata": {},
   "outputs": [
    {
     "data": {
      "text/plain": [
       "array([16937.80857877])"
      ]
     },
     "execution_count": 3,
     "metadata": {},
     "output_type": "execute_result"
    }
   ],
   "source": [
    "result"
   ]
  },
  {
   "cell_type": "code",
   "execution_count": null,
   "id": "d416e58f-217e-4a21-a791-2d50944f337c",
   "metadata": {},
   "outputs": [],
   "source": []
  }
 ],
 "metadata": {
  "kernelspec": {
   "display_name": "Python 3 (ipykernel)",
   "language": "python",
   "name": "python3"
  },
  "language_info": {
   "codemirror_mode": {
    "name": "ipython",
    "version": 3
   },
   "file_extension": ".py",
   "mimetype": "text/x-python",
   "name": "python",
   "nbconvert_exporter": "python",
   "pygments_lexer": "ipython3",
   "version": "3.12.4"
  }
 },
 "nbformat": 4,
 "nbformat_minor": 5
}
